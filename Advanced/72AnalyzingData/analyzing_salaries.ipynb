{
 "cells": [
  {
   "cell_type": "code",
   "execution_count": 3,
   "id": "2dc26b9b-2b30-4102-abba-c8c054e95a39",
   "metadata": {
    "editable": true,
    "slideshow": {
     "slide_type": ""
    },
    "tags": []
   },
   "outputs": [],
   "source": [
    "import pandas as pd\n",
    "# Creating dataframe\n",
    "df = pd.read_csv('salaries_by_college_major.csv')"
   ]
  },
  {
   "cell_type": "code",
   "execution_count": 9,
   "id": "bd86b579-5ae0-484d-8edd-0ba364298381",
   "metadata": {
    "editable": true,
    "slideshow": {
     "slide_type": ""
    },
    "tags": []
   },
   "outputs": [
    {
     "name": "stdout",
     "output_type": "stream",
     "text": [
      "     Undergraduate Major  Starting Median Salary  Mid-Career Median Salary  \\\n",
      "0             Accounting                 46000.0                   77100.0   \n",
      "1  Aerospace Engineering                 57700.0                  101000.0   \n",
      "2            Agriculture                 42600.0                   71900.0   \n",
      "3           Anthropology                 36800.0                   61500.0   \n",
      "4           Architecture                 41600.0                   76800.0   \n",
      "\n",
      "   Mid-Career 10th Percentile Salary  Mid-Career 90th Percentile Salary  \\\n",
      "0                            42200.0                           152000.0   \n",
      "1                            64300.0                           161000.0   \n",
      "2                            36300.0                           150000.0   \n",
      "3                            33800.0                           138000.0   \n",
      "4                            50600.0                           136000.0   \n",
      "\n",
      "      Group  \n",
      "0  Business  \n",
      "1      STEM  \n",
      "2  Business  \n",
      "3      HASS  \n",
      "4  Business  \n"
     ]
    }
   ],
   "source": [
    "# Getting first five entries\n",
    "print(df.head())"
   ]
  },
  {
   "cell_type": "code",
   "execution_count": null,
   "id": "db7d01ce-8a19-45da-a44e-5a912ee52321",
   "metadata": {},
   "outputs": [],
   "source": []
  }
 ],
 "metadata": {
  "kernelspec": {
   "display_name": "Python 3 (ipykernel)",
   "language": "python",
   "name": "python3"
  },
  "language_info": {
   "codemirror_mode": {
    "name": "ipython",
    "version": 3
   },
   "file_extension": ".py",
   "mimetype": "text/x-python",
   "name": "python",
   "nbconvert_exporter": "python",
   "pygments_lexer": "ipython3",
   "version": "3.12.4"
  }
 },
 "nbformat": 4,
 "nbformat_minor": 5
}
